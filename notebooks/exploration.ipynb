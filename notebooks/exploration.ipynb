import librosa
import librosa.display
import matplotlib.pyplot as plt
import numpy as np
import os

# just trying with 1 sample audio first
file_path = "../data/dummy_audio/sample1.wav"

# load audio file
y, sr = librosa.load(file_path, sr=16000)  # force resample to 16kHz for consistency

print("Sample rate:", sr)
print("Audio length (seconds):", len(y) / sr)
print("Raw audio shape:", y.shape)

# plot waveform
plt.figure(figsize=(12, 3))
librosa.display.waveshow(y, sr=sr)
plt.title("Waveform")
plt.xlabel("Time (s)")
plt.ylabel("Amplitude")
plt.tight_layout()
plt.show()

# try mel spectrogram
S = librosa.feature.melspectrogram(y=y, sr=sr, n_mels=64)
S_dB = librosa.power_to_db(S, ref=np.max)

plt.figure(figsize=(10, 4))
librosa.display.specshow(S_dB, sr=sr, x_axis='time', y_axis='mel')
plt.colorbar(format="%+2.0f dB")
plt.title("Mel Spectrogram")
plt.tight_layout()
plt.show()
